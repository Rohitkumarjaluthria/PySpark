{
 "cells": [
  {
   "cell_type": "markdown",
   "id": "4fb6625c",
   "metadata": {},
   "source": [
    "## Pyspark Introduction"
   ]
  },
  {
   "cell_type": "code",
   "execution_count": 1,
   "id": "4a179b33",
   "metadata": {},
   "outputs": [
    {
     "name": "stdout",
     "output_type": "stream",
     "text": [
      "Requirement already satisfied: pyspark in c:\\users\\rohit\\anaconda3\\lib\\site-packages (3.4.0)\n",
      "Requirement already satisfied: py4j==0.10.9.7 in c:\\users\\rohit\\anaconda3\\lib\\site-packages (from pyspark) (0.10.9.7)\n"
     ]
    }
   ],
   "source": [
    "!pip install pyspark"
   ]
  },
  {
   "cell_type": "code",
   "execution_count": 2,
   "id": "1c588317",
   "metadata": {},
   "outputs": [],
   "source": [
    "import pyspark\n",
    "import pandas as pd"
   ]
  },
  {
   "cell_type": "code",
   "execution_count": 6,
   "id": "11dfdcf1",
   "metadata": {},
   "outputs": [],
   "source": [
    "df=pd.read_csv('emp.csv')"
   ]
  },
  {
   "cell_type": "code",
   "execution_count": 7,
   "id": "7d42ac7e",
   "metadata": {},
   "outputs": [
    {
     "data": {
      "text/html": [
       "<div>\n",
       "<style scoped>\n",
       "    .dataframe tbody tr th:only-of-type {\n",
       "        vertical-align: middle;\n",
       "    }\n",
       "\n",
       "    .dataframe tbody tr th {\n",
       "        vertical-align: top;\n",
       "    }\n",
       "\n",
       "    .dataframe thead th {\n",
       "        text-align: right;\n",
       "    }\n",
       "</style>\n",
       "<table border=\"1\" class=\"dataframe\">\n",
       "  <thead>\n",
       "    <tr style=\"text-align: right;\">\n",
       "      <th></th>\n",
       "      <th>Name</th>\n",
       "      <th>Age</th>\n",
       "    </tr>\n",
       "  </thead>\n",
       "  <tbody>\n",
       "    <tr>\n",
       "      <th>0</th>\n",
       "      <td>Rohit</td>\n",
       "      <td>27</td>\n",
       "    </tr>\n",
       "    <tr>\n",
       "      <th>1</th>\n",
       "      <td>Amit</td>\n",
       "      <td>29</td>\n",
       "    </tr>\n",
       "    <tr>\n",
       "      <th>2</th>\n",
       "      <td>Deepak</td>\n",
       "      <td>24</td>\n",
       "    </tr>\n",
       "    <tr>\n",
       "      <th>3</th>\n",
       "      <td>Nikhil</td>\n",
       "      <td>15</td>\n",
       "    </tr>\n",
       "    <tr>\n",
       "      <th>4</th>\n",
       "      <td>Monish</td>\n",
       "      <td>16</td>\n",
       "    </tr>\n",
       "  </tbody>\n",
       "</table>\n",
       "</div>"
      ],
      "text/plain": [
       "     Name   Age\n",
       "0    Rohit   27\n",
       "1     Amit   29\n",
       "2  Deepak    24\n",
       "3   Nikhil   15\n",
       "4   Monish   16"
      ]
     },
     "execution_count": 7,
     "metadata": {},
     "output_type": "execute_result"
    }
   ],
   "source": [
    "df"
   ]
  },
  {
   "cell_type": "code",
   "execution_count": 8,
   "id": "c2a49dfe",
   "metadata": {},
   "outputs": [],
   "source": [
    "from pyspark.sql import SparkSession"
   ]
  },
  {
   "cell_type": "code",
   "execution_count": 9,
   "id": "2ae51b80",
   "metadata": {},
   "outputs": [],
   "source": [
    "spark= SparkSession.builder.appName(\"Practice\").getOrCreate()"
   ]
  },
  {
   "cell_type": "code",
   "execution_count": 10,
   "id": "143ef2d6",
   "metadata": {},
   "outputs": [
    {
     "data": {
      "text/html": [
       "\n",
       "            <div>\n",
       "                <p><b>SparkSession - in-memory</b></p>\n",
       "                \n",
       "        <div>\n",
       "            <p><b>SparkContext</b></p>\n",
       "\n",
       "            <p><a href=\"http://192.168.0.110:4040\">Spark UI</a></p>\n",
       "\n",
       "            <dl>\n",
       "              <dt>Version</dt>\n",
       "                <dd><code>v3.4.0</code></dd>\n",
       "              <dt>Master</dt>\n",
       "                <dd><code>local[*]</code></dd>\n",
       "              <dt>AppName</dt>\n",
       "                <dd><code>Practice</code></dd>\n",
       "            </dl>\n",
       "        </div>\n",
       "        \n",
       "            </div>\n",
       "        "
      ],
      "text/plain": [
       "<pyspark.sql.session.SparkSession at 0x206b7601190>"
      ]
     },
     "execution_count": 10,
     "metadata": {},
     "output_type": "execute_result"
    }
   ],
   "source": [
    "spark"
   ]
  },
  {
   "cell_type": "code",
   "execution_count": 12,
   "id": "06780d57",
   "metadata": {},
   "outputs": [],
   "source": [
    "df_spark=spark.read.csv('emp.csv')"
   ]
  },
  {
   "cell_type": "code",
   "execution_count": 13,
   "id": "776d1468",
   "metadata": {},
   "outputs": [
    {
     "data": {
      "text/plain": [
       "DataFrame[_c0: string, _c1: string]"
      ]
     },
     "execution_count": 13,
     "metadata": {},
     "output_type": "execute_result"
    }
   ],
   "source": [
    "df_spark"
   ]
  },
  {
   "cell_type": "code",
   "execution_count": 63,
   "id": "81b6b415",
   "metadata": {},
   "outputs": [],
   "source": [
    "## read the dataset\n",
    "## .option('header','True') it will fetch the header and replace with _c0 and _c1\n",
    "## inferSchema=True , shows the original datatype instead of string\n",
    "\n",
    "df_spark=spark.read.option('header','True').csv('emp.csv',inferSchema=True)"
   ]
  },
  {
   "cell_type": "code",
   "execution_count": 64,
   "id": "e7ae4f0c",
   "metadata": {},
   "outputs": [
    {
     "data": {
      "text/plain": [
       "DataFrame[Name : string, Age: string]"
      ]
     },
     "execution_count": 64,
     "metadata": {},
     "output_type": "execute_result"
    }
   ],
   "source": [
    "### Check the schema\n",
    "spark.read.option('header','True').csv('emp.csv')"
   ]
  },
  {
   "cell_type": "code",
   "execution_count": 65,
   "id": "085e730b",
   "metadata": {},
   "outputs": [
    {
     "data": {
      "text/plain": [
       "pyspark.sql.dataframe.DataFrame"
      ]
     },
     "execution_count": 65,
     "metadata": {},
     "output_type": "execute_result"
    }
   ],
   "source": [
    "type(df_spark)"
   ]
  },
  {
   "cell_type": "code",
   "execution_count": 66,
   "id": "0d760739",
   "metadata": {},
   "outputs": [
    {
     "name": "stdout",
     "output_type": "stream",
     "text": [
      "root\n",
      " |-- Name : string (nullable = true)\n",
      " |-- Age: integer (nullable = true)\n",
      "\n"
     ]
    }
   ],
   "source": [
    "df_spark.printSchema()"
   ]
  },
  {
   "cell_type": "code",
   "execution_count": 62,
   "id": "bcd57361",
   "metadata": {},
   "outputs": [
    {
     "data": {
      "text/plain": [
       "[Row(Name ='Rohit', Age=27),\n",
       " Row(Name ='Amit', Age=29),\n",
       " Row(Name ='Deepak ', Age=24),\n",
       " Row(Name ='Nikhil', Age=15),\n",
       " Row(Name ='Monish', Age=16)]"
      ]
     },
     "execution_count": 62,
     "metadata": {},
     "output_type": "execute_result"
    }
   ],
   "source": [
    "df_spark.head(5)"
   ]
  },
  {
   "cell_type": "code",
   "execution_count": 68,
   "id": "9a6c372a",
   "metadata": {},
   "outputs": [
    {
     "data": {
      "text/plain": [
       "['Name ', 'Age']"
      ]
     },
     "execution_count": 68,
     "metadata": {},
     "output_type": "execute_result"
    }
   ],
   "source": [
    "## All the columns\n",
    "\n",
    "df_spark.columns"
   ]
  },
  {
   "cell_type": "code",
   "execution_count": 79,
   "id": "62ddbd82",
   "metadata": {},
   "outputs": [
    {
     "name": "stdout",
     "output_type": "stream",
     "text": [
      "+---+\n",
      "|Age|\n",
      "+---+\n",
      "| 27|\n",
      "| 29|\n",
      "| 24|\n",
      "| 15|\n",
      "| 16|\n",
      "+---+\n",
      "\n"
     ]
    }
   ],
   "source": [
    "## select some columns\n",
    "\n",
    "\n",
    "df_spark.select(['Age']).show()"
   ]
  },
  {
   "cell_type": "code",
   "execution_count": 81,
   "id": "a50545f5",
   "metadata": {},
   "outputs": [
    {
     "data": {
      "text/plain": [
       "Column<'Age'>"
      ]
     },
     "execution_count": 81,
     "metadata": {},
     "output_type": "execute_result"
    }
   ],
   "source": [
    "df_spark['Age']"
   ]
  },
  {
   "cell_type": "code",
   "execution_count": 84,
   "id": "24e4d39a",
   "metadata": {},
   "outputs": [
    {
     "data": {
      "text/plain": [
       "[('Name ', 'string'), ('Age', 'int')]"
      ]
     },
     "execution_count": 84,
     "metadata": {},
     "output_type": "execute_result"
    }
   ],
   "source": [
    "df_spark.dtypes"
   ]
  },
  {
   "cell_type": "code",
   "execution_count": 86,
   "id": "22bd5002",
   "metadata": {},
   "outputs": [
    {
     "name": "stdout",
     "output_type": "stream",
     "text": [
      "+-------+-----+------------------+\n",
      "|summary|Name |               Age|\n",
      "+-------+-----+------------------+\n",
      "|  count|    5|                 5|\n",
      "|   mean| null|              22.2|\n",
      "| stddev| null|6.3796551630946325|\n",
      "|    min| Amit|                15|\n",
      "|    max|Rohit|                29|\n",
      "+-------+-----+------------------+\n",
      "\n"
     ]
    }
   ],
   "source": [
    "df_spark.describe().show()"
   ]
  },
  {
   "cell_type": "code",
   "execution_count": 87,
   "id": "a959cdfe",
   "metadata": {},
   "outputs": [],
   "source": [
    "### Adding Columns in data frame\n",
    "\n",
    "df_spark=df_spark.withColumn('Age After 2 year',df_spark['Age']+2)"
   ]
  },
  {
   "cell_type": "code",
   "execution_count": 88,
   "id": "a8f4f0d1",
   "metadata": {},
   "outputs": [
    {
     "name": "stdout",
     "output_type": "stream",
     "text": [
      "+-------+---+----------------+\n",
      "|  Name |Age|Age After 2 year|\n",
      "+-------+---+----------------+\n",
      "|  Rohit| 27|              29|\n",
      "|   Amit| 29|              31|\n",
      "|Deepak | 24|              26|\n",
      "| Nikhil| 15|              17|\n",
      "| Monish| 16|              18|\n",
      "+-------+---+----------------+\n",
      "\n"
     ]
    }
   ],
   "source": [
    "df_spark.show()"
   ]
  },
  {
   "cell_type": "code",
   "execution_count": 90,
   "id": "8f619600",
   "metadata": {},
   "outputs": [
    {
     "data": {
      "text/plain": [
       "DataFrame[Name : string, Age: int]"
      ]
     },
     "execution_count": 90,
     "metadata": {},
     "output_type": "execute_result"
    }
   ],
   "source": [
    "df_spark.drop('Age After 2 year')"
   ]
  },
  {
   "cell_type": "code",
   "execution_count": 91,
   "id": "ac809616",
   "metadata": {},
   "outputs": [
    {
     "name": "stdout",
     "output_type": "stream",
     "text": [
      "+-------+---+----------------+\n",
      "|  Name |Age|Age After 2 year|\n",
      "+-------+---+----------------+\n",
      "|  Rohit| 27|              29|\n",
      "|   Amit| 29|              31|\n",
      "|Deepak | 24|              26|\n",
      "| Nikhil| 15|              17|\n",
      "| Monish| 16|              18|\n",
      "+-------+---+----------------+\n",
      "\n"
     ]
    }
   ],
   "source": [
    "df_spark.show()"
   ]
  },
  {
   "cell_type": "code",
   "execution_count": 98,
   "id": "5e40f62e",
   "metadata": {},
   "outputs": [
    {
     "name": "stdout",
     "output_type": "stream",
     "text": [
      "+-------+---------+----------------+\n",
      "|  Name |Years Old|Age After 2 year|\n",
      "+-------+---------+----------------+\n",
      "|  Rohit|       27|              29|\n",
      "|   Amit|       29|              31|\n",
      "|Deepak |       24|              26|\n",
      "| Nikhil|       15|              17|\n",
      "| Monish|       16|              18|\n",
      "+-------+---------+----------------+\n",
      "\n"
     ]
    }
   ],
   "source": [
    "### Rename the columns\n",
    "\n",
    "df_spark.withColumnRenamed('Age','Years Old').show()"
   ]
  },
  {
   "cell_type": "code",
   "execution_count": null,
   "id": "23291252",
   "metadata": {},
   "outputs": [],
   "source": [
    "df_spark.withColumn"
   ]
  },
  {
   "cell_type": "code",
   "execution_count": null,
   "id": "494ec58c",
   "metadata": {},
   "outputs": [],
   "source": []
  }
 ],
 "metadata": {
  "kernelspec": {
   "display_name": "Python 3 (ipykernel)",
   "language": "python",
   "name": "python3"
  },
  "language_info": {
   "codemirror_mode": {
    "name": "ipython",
    "version": 3
   },
   "file_extension": ".py",
   "mimetype": "text/x-python",
   "name": "python",
   "nbconvert_exporter": "python",
   "pygments_lexer": "ipython3",
   "version": "3.9.13"
  }
 },
 "nbformat": 4,
 "nbformat_minor": 5
}
